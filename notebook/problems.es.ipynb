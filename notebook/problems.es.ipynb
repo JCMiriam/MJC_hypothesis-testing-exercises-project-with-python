{
 "cells": [
  {
   "cell_type": "markdown",
   "id": "d9d036c6",
   "metadata": {},
   "source": [
    "# Problemas de prueba de hipótesis"
   ]
  },
  {
   "cell_type": "markdown",
   "id": "d157c4db",
   "metadata": {},
   "source": [
    "## Ejercicio 1\n",
    "\n",
    "Usted es un nutricionista que investiga dos tipos diferentes de dietas para ver si existe una diferencia significativa en la pérdida de peso después de un mes. Eliges dos grupos aleatorios de personas; un grupo sigue la primera dieta y el otro sigue la segunda. Al final del mes, se registra la pérdida de peso (en kg) de cada persona:\n",
    "\n",
    "| Diet 1 | Diet 2 |\n",
    "|:-------|:-------|\n",
    "| 2.0 | 3.0 |\n",
    "| 2.5 | 3.2 |\n",
    "| 3.0 | 3.1 |\n",
    "| 2.8 | 2.9 |\n",
    "| 2.3 | 2.8 |\n",
    "| 2.7 | 3.0 |\n",
    "| 2.5 | 3.2 |\n",
    "\n",
    "Con estos datos se busca responder a la siguiente pregunta: ¿Existe una diferencia significativa en la pérdida de peso promedio entre las personas que siguieron la primera dieta y las que siguieron la segunda dieta?\n",
    "\n",
    "Para sacar conclusiones, siga los siguientes puntos:\n",
    "\n",
    "-Enunciar la hipótesis: hipótesis nula y alternativa.\n",
    "-Realizar la prueba para comprobar la hipótesis. Puede utilizar la prueba t de Student.\n",
    "-Analizar las conclusiones."
   ]
  },
  {
   "cell_type": "code",
   "execution_count": null,
   "id": "0f0ca0a7",
   "metadata": {},
   "outputs": [],
   "source": [
    "# Enunciado de hipótesis\n",
    "\n",
    "# Hipótesis nula (H₀): No existe una diferencia significativa en la pérdida de peso promedio entre las personas que siguieron la primera dieta y las que siguieron la segunda dieta. \n",
    "# Es decir, la diferencia en las medias es cero.\n",
    "\n",
    "# Hipótesis alternativa (H₁): Existe una diferencia significativa en la pérdida de peso promedio entre las personas que siguieron las dos dietas."
   ]
  },
  {
   "cell_type": "code",
   "execution_count": null,
   "id": "8e0f3cf0",
   "metadata": {},
   "outputs": [
    {
     "name": "stdout",
     "output_type": "stream",
     "text": [
      "Estadístico t: -3.5383407969933938\n",
      "Valor p: 0.004083270191713912\n"
     ]
    }
   ],
   "source": [
    "from scipy import stats\n",
    "\n",
    "diets = {\n",
    "    \"diet_1\": [2.0, 2.5, 3.0, 2.8, 2.3, 2.7, 2.5],\n",
    "    \"diet_2\": [3.0, 3.2, 3.1, 2.9, 2.8, 3.0, 3.2]\n",
    "}\n",
    "\n",
    "t_stat, p_value = stats.ttest_ind(diets[\"diet_1\"], diets[\"diet_2\"])\n",
    "\n",
    "print(f\"Estadístico t: {t_stat}\")\n",
    "print(f\"Valor p: {p_value}\")"
   ]
  },
  {
   "cell_type": "code",
   "execution_count": null,
   "id": "e1f904e1",
   "metadata": {},
   "outputs": [],
   "source": [
    "# Conclusión\n",
    "\n",
    "# Dado que el valor p (0.00408) es menor que 0.05, rechazamos la hipótesis nula, lo que significa que tenemos evidencia para afirmar que hay una diferencia en la pérdida de peso promedio entre las personas que siguieron la primera dieta y las que siguieron la segunda."
   ]
  },
  {
   "cell_type": "markdown",
   "id": "f432e18e",
   "metadata": {},
   "source": [
    "## ANOVA\n",
    "\n",
    "**ANOVA** (*Analysis of Variance - Análisis de variación*) Es una técnica estadística utilizada para comparar las medidas de dos o más grupos. La idea detrás de ANOVA es descomponer la variabilidad total de los datos en dos componentes: variabilidad entre grupos y variabilidad dentro de los grupos:\n",
    "\n",
    "- **Variabilidad entre grupos**: Esta variabilidad se refiere a las diferencias entre las medias del grupo. Si esta variabilidad es considerablemente mayor que la variabilidad dentro del grupo, podría ser una indicación de que al menos una de las medias del grupo es diferente.\n",
    "- **Variabilidad dentro del grupo**: Esta variabilidad se refiere a la dispersión de los datos dentro de cada grupo. Si todos los grupos tienen una variabilidad similar, entonces cualquier diferencia notable en las medias de los grupos podría considerarse significativa.\n",
    "\n",
    "Las hipótesis en ANOVA suelen incluir:\n",
    "\n",
    "- **Hipótesis nula** ($H₀$): Las medias de todos los grupos son iguales.\n",
    "- **Hipótesis alternativa** ($H₁$): Al menos una de las medias del grupo es diferente.\n",
    "\n",
    "Si el resultado de la prueba ANOVA es significativo (por ejemplo, un valor p inferior a un umbral como 0,05), esto sugiere que al menos la media de un grupo es diferente."
   ]
  },
  {
   "cell_type": "markdown",
   "id": "fc5f3721",
   "metadata": {},
   "source": [
    "## Ejercicio 2\n",
    "\n",
    "Un agricultor decide probar tres tipos diferentes de fertilizantes para determinar si alguno es superior en términos de producción de maíz. El agricultor planta maíz en 15 parcelas idénticas y utiliza los tres fertilizantes (5 parcelas para cada tipo). Al final de la temporada mide el rendimiento de maíz (en kg) de cada parcela, con el siguiente resultado:\n",
    "\n",
    "| Fertilizante 1 | Fertilizante 2 | Fertilizante 3 |\n",
    "|:-------------|:-------------|:-------------|\n",
    "| 20 | 22 | 24 |\n",
    "| 21 | 21 | 23 |\n",
    "| 20 | 23 | 22 |\n",
    "| 19 | 22 | 23 |\n",
    "| 20 | 21 | 24 |\n",
    "\n",
    "Con estos datos busca responder la siguiente pregunta: ¿Existe una diferencia significativa en el rendimiento promedio del maíz entre los tres tipos de fertilizantes?\n",
    "\n",
    "Para ayudarte, sigue los siguientes puntos:\n",
    "\n",
    "-Enunciar la hipótesis: hipótesis nula y alternativa.\n",
    "-Realizar la prueba ANOVA.\n",
    "-Analizar las conclusiones.\n",
    "-Si un fertilizante es mejor que otro, ¿cómo podemos saberlo?"
   ]
  },
  {
   "cell_type": "code",
   "execution_count": null,
   "id": "3e61cf1e",
   "metadata": {},
   "outputs": [],
   "source": [
    "# Enunciado de hipótesis\n",
    "\n",
    "# Hipótesis nula (H₀): No existe una diferencia significativa en el rendimiento promedio de maíz entre los tres tipos de fertilizantes. Es decir, las medias son iguales.\n",
    "\n",
    "# Hipótesis alternativa (H₁): Existe al menos una diferencia significativa en el rendimiento promedio de maíz entre los fertilizantes."
   ]
  },
  {
   "cell_type": "code",
   "execution_count": 17,
   "id": "eecad0ca",
   "metadata": {},
   "outputs": [
    {
     "name": "stdout",
     "output_type": "stream",
     "text": [
      "Estadístico f: 20.315789473684188\n",
      "Valor p: 0.00014047824793190475\n"
     ]
    }
   ],
   "source": [
    "from scipy import stats\n",
    "\n",
    "parcels = {\n",
    "    \"parcel_1\": [20, 21, 20, 19, 20],\n",
    "    \"parcel_2\": [22, 21, 23, 22, 21],\n",
    "    \"parcel_3\": [24, 23, 22, 23, 24]\n",
    "}\n",
    "\n",
    "f_stat, p_value = stats.f_oneway(parcels[\"parcel_1\"], parcels[\"parcel_2\"], parcels[\"parcel_3\"])\n",
    "\n",
    "print(f\"Estadístico f: {f_stat}\")\n",
    "print(f\"Valor p: {p_value}\")"
   ]
  },
  {
   "cell_type": "code",
   "execution_count": null,
   "id": "a39d662f",
   "metadata": {},
   "outputs": [],
   "source": [
    "# Conclusión\n",
    "\n",
    "# Dado que el valor p (0.00014) es mucho menor que 0.05, rechazamos la hipótesis nula. Esto significa que existe una diferencia significativa en el rendimiento promedio de maíz entre al menos dos de los fertilizantes."
   ]
  },
  {
   "cell_type": "code",
   "execution_count": 19,
   "id": "d94a8803",
   "metadata": {},
   "outputs": [
    {
     "data": {
      "text/html": [
       "<div>\n",
       "<style scoped>\n",
       "    .dataframe tbody tr th:only-of-type {\n",
       "        vertical-align: middle;\n",
       "    }\n",
       "\n",
       "    .dataframe tbody tr th {\n",
       "        vertical-align: top;\n",
       "    }\n",
       "\n",
       "    .dataframe thead th {\n",
       "        text-align: right;\n",
       "    }\n",
       "</style>\n",
       "<table border=\"1\" class=\"dataframe\">\n",
       "  <thead>\n",
       "    <tr style=\"text-align: right;\">\n",
       "      <th></th>\n",
       "      <th>group1</th>\n",
       "      <th>group2</th>\n",
       "      <th>meandiff</th>\n",
       "      <th>p-adj</th>\n",
       "      <th>lower</th>\n",
       "      <th>upper</th>\n",
       "      <th>reject</th>\n",
       "    </tr>\n",
       "  </thead>\n",
       "  <tbody>\n",
       "    <tr>\n",
       "      <th>0</th>\n",
       "      <td>Parcel 1</td>\n",
       "      <td>Parcel 2</td>\n",
       "      <td>1.8</td>\n",
       "      <td>0.0099</td>\n",
       "      <td>1.2181</td>\n",
       "      <td>2.3819</td>\n",
       "      <td>True</td>\n",
       "    </tr>\n",
       "    <tr>\n",
       "      <th>1</th>\n",
       "      <td>Parcel 1</td>\n",
       "      <td>Parcel 3</td>\n",
       "      <td>3.2</td>\n",
       "      <td>0.0001</td>\n",
       "      <td>2.6181</td>\n",
       "      <td>3.7819</td>\n",
       "      <td>True</td>\n",
       "    </tr>\n",
       "    <tr>\n",
       "      <th>2</th>\n",
       "      <td>Parcel 2</td>\n",
       "      <td>Parcel 3</td>\n",
       "      <td>1.4</td>\n",
       "      <td>0.0409</td>\n",
       "      <td>0.8181</td>\n",
       "      <td>1.9819</td>\n",
       "      <td>True</td>\n",
       "    </tr>\n",
       "  </tbody>\n",
       "</table>\n",
       "</div>"
      ],
      "text/plain": [
       "     group1    group2  meandiff   p-adj   lower   upper  reject\n",
       "0  Parcel 1  Parcel 2       1.8  0.0099  1.2181  2.3819    True\n",
       "1  Parcel 1  Parcel 3       3.2  0.0001  2.6181  3.7819    True\n",
       "2  Parcel 2  Parcel 3       1.4  0.0409  0.8181  1.9819    True"
      ]
     },
     "execution_count": 19,
     "metadata": {},
     "output_type": "execute_result"
    }
   ],
   "source": [
    "import numpy as np\n",
    "import pandas as pd\n",
    "from statsmodels.stats.multicomp import pairwise_tukeyhsd\n",
    "\n",
    "production = np.concatenate(list(parcels.values()))\n",
    "groups = [\"Parcel 1\"] * 5 + [\"Parcel 2\"] * 5 + [\"Parcel 3\"] * 5\n",
    "\n",
    "tukey_test = pairwise_tukeyhsd(endog=production, groups=groups, alpha=0.5)\n",
    "tukey__df = pd.DataFrame(data=tukey_test._results_table.data[1:], columns=tukey_test._results_table.data[0])\n",
    "\n",
    "tukey__df"
   ]
  },
  {
   "cell_type": "code",
   "execution_count": null,
   "id": "b9fbddbd",
   "metadata": {},
   "outputs": [],
   "source": [
    "# Resultados de comparación de fertilizantes\n",
    "\n",
    "# Los resultados indican que hay diferencias en los rendimientos de maíz entre todas las parcelas. En este caso, podrímos concluir que el fertilizante aplicado en la tercera parcela tiene el rendimiento más alto."
   ]
  }
 ],
 "metadata": {
  "kernelspec": {
   "display_name": "Python 3",
   "language": "python",
   "name": "python3"
  },
  "language_info": {
   "codemirror_mode": {
    "name": "ipython",
    "version": 3
   },
   "file_extension": ".py",
   "mimetype": "text/x-python",
   "name": "python",
   "nbconvert_exporter": "python",
   "pygments_lexer": "ipython3",
   "version": "3.11.4"
  }
 },
 "nbformat": 4,
 "nbformat_minor": 5
}
